{
 "cells": [
  {
   "cell_type": "markdown",
   "source": [
    "# Collaboration and Competition\n",
    "\n",
    "---\n",
    "\n",
    "In this notebook, you will learn how to use the Unity ML-Agents environment for the third project of the [Deep Reinforcement Learning Nanodegree](https://www.udacity.com/course/deep-reinforcement-learning-nanodegree--nd893) program.\n",
    "\n",
    "### 1. Start the Environment\n",
    "\n",
    "We begin by importing the necessary packages.  If the code cell below returns an error, please revisit the project instructions to double-check that you have installed [Unity ML-Agents](https://github.com/Unity-Technologies/ml-agents/blob/master/docs/Installation.md) and [NumPy](http://www.numpy.org/)."
   ],
   "metadata": {}
  },
  {
   "cell_type": "code",
   "execution_count": 1,
   "source": [
    "import torch\n",
    "from unityagents import UnityEnvironment\n",
    "import numpy as np\n",
    "from multiAgent import MultiAgent\n",
    "import matplotlib.pyplot as plt"
   ],
   "outputs": [],
   "metadata": {}
  },
  {
   "cell_type": "markdown",
   "source": [
    "Next, we will start the environment!  **_Before running the code cell below_**, change the `file_name` parameter to match the location of the Unity environment that you downloaded.\n",
    "\n",
    "- **Mac**: `\"path/to/Tennis.app\"`\n",
    "- **Windows** (x86): `\"path/to/Tennis_Windows_x86/Tennis.exe\"`\n",
    "- **Windows** (x86_64): `\"path/to/Tennis_Windows_x86_64/Tennis.exe\"`\n",
    "- **Linux** (x86): `\"path/to/Tennis_Linux/Tennis.x86\"`\n",
    "- **Linux** (x86_64): `\"path/to/Tennis_Linux/Tennis.x86_64\"`\n",
    "- **Linux** (x86, headless): `\"path/to/Tennis_Linux_NoVis/Tennis.x86\"`\n",
    "- **Linux** (x86_64, headless): `\"path/to/Tennis_Linux_NoVis/Tennis.x86_64\"`\n",
    "\n",
    "For instance, if you are using a Mac, then you downloaded `Tennis.app`.  If this file is in the same folder as the notebook, then the line below should appear as follows:\n",
    "```\n",
    "env = UnityEnvironment(file_name=\"Tennis.app\")\n",
    "```"
   ],
   "metadata": {}
  },
  {
   "cell_type": "code",
   "execution_count": 2,
   "source": [
    "env = UnityEnvironment(file_name=\"../Tennis_Linux/Tennis.x86_64\")"
   ],
   "outputs": [
    {
     "output_type": "stream",
     "name": "stderr",
     "text": [
      "INFO:unityagents:\n",
      "'Academy' started successfully!\n",
      "Unity Academy name: Academy\n",
      "        Number of Brains: 1\n",
      "        Number of External Brains : 1\n",
      "        Lesson number : 0\n",
      "        Reset Parameters :\n",
      "\t\t\n",
      "Unity brain name: TennisBrain\n",
      "        Number of Visual Observations (per agent): 0\n",
      "        Vector Observation space type: continuous\n",
      "        Vector Observation space size (per agent): 8\n",
      "        Number of stacked Vector Observation: 3\n",
      "        Vector Action space type: continuous\n",
      "        Vector Action space size (per agent): 2\n",
      "        Vector Action descriptions: , \n"
     ]
    }
   ],
   "metadata": {}
  },
  {
   "cell_type": "markdown",
   "source": [
    "You can select training mode for training by yourself by setting `state='Train'`. Otherwise you can just see the saved multi-agents by setting `state='Test'`. Here if you want to see agent's action slowly to see the result of 100 consecutive rewards, then set `mode='slow'`, else if fastly, `mode='fast'`"
   ],
   "metadata": {}
  },
  {
   "cell_type": "code",
   "execution_count": 3,
   "source": [
    "########################################## setting ##########################################\n",
    "# state = 'Train'\n",
    "state = 'Test'\n",
    "\n",
    "mode = 'slow'\n",
    "# mode = 'fast'\n",
    "########################################## setting ##########################################"
   ],
   "outputs": [],
   "metadata": {}
  },
  {
   "cell_type": "code",
   "execution_count": 4,
   "source": [
    "multi_agent = MultiAgent(env=env, state_size=8, action_size=2, random_seed=27)\n",
    "if state == 'Train':\n",
    "    scores = multi_agent.train(n_episodes=3000, max_t=3000)\n",
    "    plt.plot(scores)\n",
    "else: # Test     \n",
    "    multi_agent.agents[0].actor_local.load_state_dict(torch.load('../saved_model/saved_agent_1_TD3_actor.pth'))\n",
    "    multi_agent.agents[0].critic_local_1.load_state_dict(torch.load('../saved_model/saved_agent_1_TD3_critic_1.pth'))\n",
    "    multi_agent.agents[0].critic_local_2.load_state_dict(torch.load('../saved_model/saved_agent_1_TD3_critic_2.pth'))\n",
    "    multi_agent.agents[1].actor_local.load_state_dict(torch.load('../saved_model/saved_agent_2_TD3_actor.pth'))\n",
    "    multi_agent.agents[1].critic_local_1.load_state_dict(torch.load('../saved_model/saved_agent_2_TD3_critic_1.pth'))\n",
    "    multi_agent.agents[1].critic_local_2.load_state_dict(torch.load('../saved_model/saved_agent_2_TD3_critic_2.pth'))\n",
    "    print('====================================')\n",
    "    print('Sucessfully loaded')\n",
    "    print('====================================')\n",
    "\n",
    "    num_agents = 2\n",
    "    score_test = []                                  \n",
    "    for test_episode in range(1, 100+1):\n",
    "        train_mode = True if mode == 'fast' else False\n",
    "        env_info = multi_agent.env.reset(train_mode=train_mode)[multi_agent.brain_name]      # reset the environment\n",
    "        state = env_info.vector_observations[:, -8:]                 # get the current state\n",
    "        scores = np.zeros(num_agents)                                # initialize the score\n",
    "        while True:\n",
    "            action = multi_agent.act(state, add_noise=False)         # select an action\n",
    "            env_info = env.step(action)[multi_agent.brain_name]      # send the action to the environment\n",
    "            next_state = env_info.vector_observations[:, -8:]        # get the next state\n",
    "            reward = env_info.rewards                                # get the reward\n",
    "            done = env_info.local_done                               # see if episode has finished\n",
    "            scores += reward                                         # update the score\n",
    "            state = next_state                                       # roll over the state to next time step\n",
    "            if any(done):                                            # exit loop if episode finished\n",
    "                score_test.append(np.max(scores))\n",
    "                print('\\rEpisode {}\\tAverage Score: {:.2f}'.format(test_episode, np.mean(score_test)), end=\"\")\n",
    "                score_temp = 0.\n",
    "                break\n",
    "        \n",
    "    print(\"\\nFinal Score: {}\".format(np.mean(score_test)))\n",
    "    multi_agent.env.close()"
   ],
   "outputs": [
    {
     "output_type": "stream",
     "name": "stdout",
     "text": [
      "Episode 50\tAverage Score : 0.0060 \t eps : 0.988\n",
      "Episode 100\tAverage Score : 0.0119 \t eps : 0.970\n",
      "Episode 150\tAverage Score : 0.0244 \t eps : 0.948\n",
      "Episode 200\tAverage Score : 0.0372 \t eps : 0.926\n",
      "Episode 250\tAverage Score : 0.0589 \t eps : 0.900\n",
      "Episode 300\tAverage Score : 0.0672 \t eps : 0.876\n",
      "Episode 350\tAverage Score : 0.0835 \t eps : 0.839\n",
      "Episode 400\tAverage Score : 0.1068 \t eps : 0.802\n",
      "Episode 450\tAverage Score : 0.1217 \t eps : 0.743\n",
      "Episode 500\tAverage Score : 0.1342 \t eps : 0.689\n",
      "Episode 550\tAverage Score : 0.2174 \t eps : 0.579\n",
      "Episode 600\tAverage Score : 0.4427 \t eps : 0.397\n",
      "Episode 605\tAverage Score : 0.5147 \t eps : 0.348\n",
      "Environment solved in 505 episodes!\tAverage Score: 0.5147000077366828962865952235006262\n"
     ]
    },
    {
     "output_type": "display_data",
     "data": {
      "text/plain": [
       "<Figure size 432x288 with 1 Axes>"
      ],
      "image/png": "[encoded data removed]"
     },
     "metadata": {
      "needs_background": "light"
     }
    }
   ],
   "metadata": {}
  },
  {
   "cell_type": "markdown",
   "source": [
    "When finished, you can close the environment."
   ],
   "metadata": {}
  },
  {
   "cell_type": "code",
   "execution_count": 5,
   "source": [
    "env.close()"
   ],
   "outputs": [],
   "metadata": {}
  }
 ],
 "metadata": {
  "kernelspec": {
   "display_name": "Python 3",
   "language": "python",
   "name": "python3"
  },
  "language_info": {
   "codemirror_mode": {
    "name": "ipython",
    "version": 3
   },
   "file_extension": ".py",
   "mimetype": "text/x-python",
   "name": "python",
   "nbconvert_exporter": "python",
   "pygments_lexer": "ipython3",
   "version": "3.6.4"
  }
 },
 "nbformat": 4,
 "nbformat_minor": 2
}